{
 "cells": [
  {
   "cell_type": "code",
   "execution_count": null,
   "metadata": {},
   "outputs": [],
   "source": [
    "import kfp\n",
    "from kfp import dsl\n",
    "\n",
    "# Define the pipeline function\n",
    "def demo1_pipeline():\n",
    "    @dsl.python_component(\n",
    "        name='Demo 1',\n",
    "        description='A simple Demo 1 pipeline using TensorFlow',\n",
    "    )\n",
    "    def demo1_op():\n",
    "        import tensorflow as tf\n",
    "        tf.print(\"Hello, World!\")\n",
    "        return \"Hello, World!\"\n",
    "\n",
    "    # Add the operation to the pipeline\n",
    "    dsl.ContainerOp(\n",
    "        name='demo1',\n",
    "        image='tensorflow/tensorflow:latest',\n",
    "        command=['python', '-c'],\n",
    "        arguments=[\n",
    "            \"\"\"\n",
    "import tensorflow as tf\n",
    "tf.print(\"Hello, World!\")\n",
    "\"\"\"\n",
    "        ],\n",
    "    )\n",
    "\n",
    "# Compile the pipeline\n",
    "kfp.compiler.Compiler().compile(demo1_pipeline, 'demo1_pipeline.yaml')"
   ]
  }
 ],
 "metadata": {
  "language_info": {
   "name": "python"
  }
 },
 "nbformat": 4,
 "nbformat_minor": 2
}
