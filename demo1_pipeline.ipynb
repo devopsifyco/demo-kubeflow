{
 "cells": [
  {
   "cell_type": "code",
   "execution_count": null,
   "metadata": {},
   "outputs": [],
   "source": [
    "import kfp\n",
    "from kfp import dsl\n",
    "\n",
    "# Define the pipeline function with the @dsl.pipeline decorator\n",
    "@dsl.pipeline(\n",
    "    name='Demo 1 Pipeline',\n",
    "    description='A simple Demo 1 pipeline using TensorFlow'\n",
    ")\n",
    "def demo1_pipeline():\n",
    "    # Define a Python function as a task\n",
    "    @dsl.component\n",
    "    def hello_world_task():\n",
    "        import tensorflow as tf\n",
    "        tf.print(\"Hello, World!\")\n",
    "        return \"Hello, World!\"\n",
    "\n",
    "    # Add the task to the pipeline\n",
    "    hello_world_task()\n",
    "\n",
    "# Compile the pipeline\n",
    "kfp.compiler.Compiler().compile(demo1_pipeline, 'demo1_pipeline.yaml')"
   ]
  },
  {
   "cell_type": "code",
   "execution_count": null,
   "metadata": {},
   "outputs": [],
   "source": [
    "KUBEFLOW_PIPELINES_HOST = \"http://localhost:8080\"\n",
    "client = kfp.Client(host=KUBEFLOW_PIPELINES_HOST)\n",
    "\n",
    "# Define the pipeline upload function\n",
    "def upload_pipeline(pipeline_file_path, pipeline_name):\n",
    "    try:\n",
    "        # Upload the pipeline\n",
    "        uploaded_pipeline = client.upload_pipeline(\n",
    "            pipeline_package_path=pipeline_file_path,\n",
    "            pipeline_name=pipeline_name\n",
    "        )\n",
    "        print(f\"Pipeline uploaded successfully: {uploaded_pipeline.pipeline_id}\")\n",
    "    except Exception as e:\n",
    "        print(f\"Failed to upload pipeline: {e}\")\n",
    "\n",
    "# Upload the demo1_pipeline.yaml\n",
    "upload_pipeline(\"demo1_pipeline.yaml\", \"Demo 1 Pipeline\")"
   ]
  }
 ],
 "metadata": {
  "language_info": {
   "name": "python"
  }
 },
 "nbformat": 4,
 "nbformat_minor": 2
}
